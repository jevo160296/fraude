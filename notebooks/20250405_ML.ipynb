{
 "cells": [
  {
   "cell_type": "code",
   "execution_count": null,
   "id": "1460455f-8a61-46c0-84d5-09f76025d8b0",
   "metadata": {},
   "outputs": [],
   "source": [
    "from fraude import load_features_data, get_features, get_target, split, train, predict, evaluate, features_extract, calculate_metrics\n",
    "from pathlib import Path"
   ]
  },
  {
   "cell_type": "code",
   "execution_count": null,
   "id": "b2908961-0200-49aa-9f9f-9f73c8161e54",
   "metadata": {},
   "outputs": [],
   "source": [
    "project_path = Path('..').resolve()"
   ]
  },
  {
   "cell_type": "code",
   "execution_count": null,
   "id": "12b13603-4754-47bb-9cac-ad7c5cb3ac74",
   "metadata": {},
   "outputs": [],
   "source": [
    "fraude_data =load_features_data(project_path)\n",
    "features = get_features()\n",
    "target = get_target()"
   ]
  },
  {
   "cell_type": "code",
   "execution_count": null,
   "id": "e37a6a43-d46b-4987-b285-9a0bcd0e5b87",
   "metadata": {},
   "outputs": [],
   "source": [
    "fraude_data.head()"
   ]
  },
  {
   "cell_type": "code",
   "execution_count": null,
   "id": "7a6b1a4d-273c-40d9-be2e-7c56adb5a9ec",
   "metadata": {},
   "outputs": [],
   "source": [
    "dataset = fraude_data[features + [target]]"
   ]
  },
  {
   "cell_type": "code",
   "execution_count": null,
   "id": "c5e1232a-648e-46ff-a276-d0bbc477e04d",
   "metadata": {},
   "outputs": [],
   "source": [
    "dataset.head()"
   ]
  },
  {
   "cell_type": "code",
   "execution_count": null,
   "id": "fcc4d9e0-a7e8-47c0-a8bc-226fcae5d03f",
   "metadata": {},
   "outputs": [],
   "source": [
    "train_df, test_df = split(dataset)"
   ]
  },
  {
   "cell_type": "code",
   "execution_count": null,
   "id": "a6e153e2-3e32-4fd6-8c9d-93d5386f932c",
   "metadata": {},
   "outputs": [],
   "source": [
    "X_train = features_extract(train_df[features])\n",
    "y_train = train_df[target]"
   ]
  },
  {
   "cell_type": "code",
   "execution_count": null,
   "id": "c0a12746-680e-47a8-8578-4c7bccd4b679",
   "metadata": {
    "scrolled": true
   },
   "outputs": [],
   "source": [
    "#model = train(X_train, y_train)"
   ]
  },
  {
   "cell_type": "code",
   "execution_count": null,
   "id": "d63825a5-a761-4198-b1f6-c41c5d912d6c",
   "metadata": {},
   "outputs": [],
   "source": [
    "import joblib\n",
    "model_path = project_path / \"models/model.jbl\""
   ]
  },
  {
   "cell_type": "code",
   "execution_count": null,
   "id": "652db44c-7e77-47f0-ad86-e76165060d3c",
   "metadata": {},
   "outputs": [],
   "source": [
    "#if not model_path.parent.exists():\n",
    "#    model_path.parent.mkdir(parents=True)\n",
    "#joblib.dump(model, model_path)"
   ]
  },
  {
   "cell_type": "code",
   "execution_count": null,
   "id": "d659e378-681e-4413-bc0f-bf29405d8326",
   "metadata": {},
   "outputs": [],
   "source": [
    "model = joblib.load(model_path)"
   ]
  },
  {
   "cell_type": "code",
   "execution_count": null,
   "id": "556faa8a-eb3b-4798-b4ca-a8ff05ef2ef2",
   "metadata": {},
   "outputs": [],
   "source": [
    "X_test = features_extract(test_df[features])\n",
    "y_test = test_df[target]"
   ]
  },
  {
   "cell_type": "code",
   "execution_count": null,
   "id": "5ca2eddb-6637-4a75-91b0-1eb71151d764",
   "metadata": {},
   "outputs": [],
   "source": [
    "y_train_predict = predict(X_train, model)"
   ]
  },
  {
   "cell_type": "code",
   "execution_count": null,
   "id": "a4d36625-df6d-4f2b-ada2-f459f7794027",
   "metadata": {},
   "outputs": [],
   "source": [
    "y_test_predict = predict(X_test, model)"
   ]
  },
  {
   "cell_type": "code",
   "execution_count": null,
   "id": "f8739bd1-ac00-4e98-803a-5092aba9650c",
   "metadata": {},
   "outputs": [],
   "source": [
    "confusion_train = evaluate(y_train, y_train_predict)"
   ]
  },
  {
   "cell_type": "code",
   "execution_count": null,
   "id": "ae3ad5a5-8d55-43d4-a8be-c5dbb14f805e",
   "metadata": {},
   "outputs": [],
   "source": [
    "confusion_test = evaluate(y_test, y_test_predict)"
   ]
  },
  {
   "cell_type": "code",
   "execution_count": null,
   "id": "eba15e9a-2def-431d-b630-0bfcca70942a",
   "metadata": {},
   "outputs": [],
   "source": [
    "confusion_test"
   ]
  },
  {
   "cell_type": "code",
   "execution_count": null,
   "id": "3ba664f8-ae4d-43f4-b8e1-786099c7f9d3",
   "metadata": {},
   "outputs": [],
   "source": [
    "confusion_train"
   ]
  },
  {
   "cell_type": "code",
   "execution_count": null,
   "id": "5dd196f2-e365-4549-a575-121674e61ee8",
   "metadata": {},
   "outputs": [],
   "source": [
    "metrics_test = calculate_metrics(confusion_test)"
   ]
  },
  {
   "cell_type": "code",
   "execution_count": null,
   "id": "9a490077-11df-4f6d-9203-8ec197ef262e",
   "metadata": {},
   "outputs": [],
   "source": [
    "metrics_train = calculate_metrics(confusion_train)"
   ]
  },
  {
   "cell_type": "code",
   "execution_count": null,
   "id": "d154d93a-f8ff-44fb-a80b-fb9fc03906df",
   "metadata": {},
   "outputs": [],
   "source": [
    "for metric, value in metrics_train.items():\n",
    "    print(f\"{metric}: {value:.2%}\")"
   ]
  },
  {
   "cell_type": "code",
   "execution_count": null,
   "id": "db5a9401-e2e1-4f56-8192-04944cb1614a",
   "metadata": {},
   "outputs": [],
   "source": [
    "for metric, value in metrics_test.items():\n",
    "    print(f\"{metric}: {value:.2%}\")"
   ]
  }
 ],
 "metadata": {
  "kernelspec": {
   "display_name": "Python 3 (ipykernel)",
   "language": "python",
   "name": "python3"
  },
  "language_info": {
   "codemirror_mode": {
    "name": "ipython",
    "version": 3
   },
   "file_extension": ".py",
   "mimetype": "text/x-python",
   "name": "python",
   "nbconvert_exporter": "python",
   "pygments_lexer": "ipython3",
   "version": "3.10.16"
  }
 },
 "nbformat": 4,
 "nbformat_minor": 5
}

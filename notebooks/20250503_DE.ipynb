{
 "cells": [
  {
   "cell_type": "code",
   "execution_count": null,
   "id": "063b236a-c1a8-4f89-b77c-d36fc6c83cb6",
   "metadata": {},
   "outputs": [],
   "source": [
    "from fraude import get_fraude_dataset, clean_column_names, fix_datetime_columns\n",
    "from pathlib import Path\n",
    "from ydata_profiling import ProfileReport"
   ]
  },
  {
   "cell_type": "code",
   "execution_count": null,
   "id": "2c68d250-eac6-47c5-82be-887ec4228b0d",
   "metadata": {},
   "outputs": [],
   "source": [
    "project_path = Path('..').resolve()"
   ]
  },
  {
   "cell_type": "code",
   "execution_count": null,
   "id": "98e044a0-911d-4b2c-9913-a8ffa9fae64e",
   "metadata": {},
   "outputs": [],
   "source": [
    "fraude = get_fraude_dataset(project_path)\n",
    "fraude = clean_column_names(fraude)\n",
    "fraude = fix_datetime_columns(fraude)"
   ]
  },
  {
   "cell_type": "code",
   "execution_count": null,
   "id": "d504928e-8767-4bd9-acba-00bb53135bff",
   "metadata": {},
   "outputs": [],
   "source": [
    "profile_report = ProfileReport(fraude, lazy=False)"
   ]
  },
  {
   "cell_type": "code",
   "execution_count": null,
   "id": "0aecb8f9-fd54-416d-8be5-cd1fac5eb83a",
   "metadata": {
    "scrolled": true
   },
   "outputs": [],
   "source": [
    "profile_report.to_notebook_iframe()"
   ]
  },
  {
   "cell_type": "code",
   "execution_count": null,
   "id": "4fe6f25e-1386-4130-a1b5-27c5dba5b2b7",
   "metadata": {},
   "outputs": [],
   "source": [
    "from fraude import remove_outliers"
   ]
  },
  {
   "cell_type": "code",
   "execution_count": null,
   "id": "9195ad98-f563-41ee-8181-156a6ea99da3",
   "metadata": {},
   "outputs": [],
   "source": [
    "fraude = remove_outliers(fraude)"
   ]
  },
  {
   "cell_type": "code",
   "execution_count": null,
   "id": "43f02837-bd49-4e12-958c-b034bffdc377",
   "metadata": {},
   "outputs": [],
   "source": [
    "profile_report_2 = ProfileReport(fraude, lazy=False)"
   ]
  },
  {
   "cell_type": "code",
   "execution_count": null,
   "id": "4b53e4c3-0612-40e4-b3e2-5ac5f74fba1e",
   "metadata": {
    "scrolled": true
   },
   "outputs": [],
   "source": [
    "profile_report_2.to_notebook_iframe()"
   ]
  },
  {
   "cell_type": "code",
   "execution_count": null,
   "id": "655d2302-d5a7-4069-acf8-e29062a2835d",
   "metadata": {},
   "outputs": [],
   "source": [
    "fraude_zero = fraude.query('amount == 0')"
   ]
  },
  {
   "cell_type": "code",
   "execution_count": null,
   "id": "a9607cb1-fda5-4fe3-85cf-b6f1ef3e1bfa",
   "metadata": {},
   "outputs": [],
   "source": [
    "profile_report_zero = ProfileReport(fraude_zero, lazy=False)"
   ]
  },
  {
   "cell_type": "code",
   "execution_count": null,
   "id": "ededfccb-b729-4d53-aa4e-fd11b215b4eb",
   "metadata": {
    "scrolled": true
   },
   "outputs": [],
   "source": [
    "profile_report_zero.to_notebook_iframe()"
   ]
  },
  {
   "cell_type": "code",
   "execution_count": null,
   "id": "70f14b01-35d8-4d61-893b-a7dd595dfdcb",
   "metadata": {},
   "outputs": [],
   "source": [
    "from fraude import remove_zeros"
   ]
  },
  {
   "cell_type": "code",
   "execution_count": null,
   "id": "ecc37647-cbf1-4536-b394-3dea4d07657e",
   "metadata": {},
   "outputs": [],
   "source": [
    "fraude = remove_zeros(fraude)"
   ]
  },
  {
   "cell_type": "code",
   "execution_count": null,
   "id": "1fb0b14f-2ec5-43e9-81d8-0c53b524c334",
   "metadata": {},
   "outputs": [],
   "source": [
    "profile_report_3 = ProfileReport(fraude, lazy=False)"
   ]
  },
  {
   "cell_type": "code",
   "execution_count": null,
   "id": "3c943f7d-7845-4593-b93c-cb7c6c326225",
   "metadata": {},
   "outputs": [],
   "source": [
    "profile_report_3.to_notebook_iframe()"
   ]
  },
  {
   "cell_type": "code",
   "execution_count": null,
   "id": "4df9f0c0-5bb0-4310-a6b2-391277e8455d",
   "metadata": {},
   "outputs": [],
   "source": []
  }
 ],
 "metadata": {
  "kernelspec": {
   "display_name": "Python 3 (ipykernel)",
   "language": "python",
   "name": "python3"
  },
  "language_info": {
   "codemirror_mode": {
    "name": "ipython",
    "version": 3
   },
   "file_extension": ".py",
   "mimetype": "text/x-python",
   "name": "python",
   "nbconvert_exporter": "python",
   "pygments_lexer": "ipython3",
   "version": "3.10.16"
  }
 },
 "nbformat": 4,
 "nbformat_minor": 5
}

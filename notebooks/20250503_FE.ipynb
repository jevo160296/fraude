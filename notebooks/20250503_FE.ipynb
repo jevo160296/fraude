{
 "cells": [
  {
   "cell_type": "code",
   "execution_count": null,
   "id": "0acd34c0-5bcd-4806-b41f-a411bca7216c",
   "metadata": {},
   "outputs": [],
   "source": [
    "from fraude import load_cleaned_data\n",
    "from pathlib import Path\n",
    "from sklearn.feature_extraction import DictVectorizer"
   ]
  },
  {
   "cell_type": "code",
   "execution_count": null,
   "id": "15bdfc39-a709-48c6-88f1-88d6221d138e",
   "metadata": {},
   "outputs": [],
   "source": [
    "project_path  = Path('..').resolve()"
   ]
  },
  {
   "cell_type": "code",
   "execution_count": null,
   "id": "2793eb0c-b046-4223-96a3-95c58905bae9",
   "metadata": {},
   "outputs": [],
   "source": [
    "cleaned_data = load_cleaned_data(project_path)\n",
    "cleaned_data['week_day'] = cleaned_data['date'].apply(lambda date: date.strftime(\"%A\"))\n",
    "country_city = cleaned_data['city'].str.split(',')\n",
    "cleaned_data['country'] = country_city.apply(lambda x: x[1] if len(x) > 1 else None)\n",
    "cleaned_data['city'] = country_city.apply(lambda x: x[0] if len(x) > 0 else None)"
   ]
  },
  {
   "cell_type": "code",
   "execution_count": null,
   "id": "62fa7ec8-56a8-4bbf-8390-9fb8e91c36a0",
   "metadata": {},
   "outputs": [],
   "source": [
    "variables_independientes = ['week_day','amount','oldbalanceorg','newbalanceorig','city', 'country','type',\n",
    "'card_type','exp_type','gender']\n",
    "variable_dependiente = 'isfraud'"
   ]
  },
  {
   "cell_type": "code",
   "execution_count": null,
   "id": "eb1d654e-1404-480d-a1bf-8ea631bea684",
   "metadata": {},
   "outputs": [],
   "source": [
    "cleaned_data[variables_independientes].head()"
   ]
  },
  {
   "cell_type": "code",
   "execution_count": null,
   "id": "cd2ec3c5-0b78-47a5-a708-5f7966bf5c50",
   "metadata": {},
   "outputs": [],
   "source": [
    "from ydata_profiling import ProfileReport"
   ]
  },
  {
   "cell_type": "code",
   "execution_count": null,
   "id": "832778d4-11d5-479d-a81e-2fd6880d096e",
   "metadata": {},
   "outputs": [],
   "source": [
    "profile_report = ProfileReport(cleaned_data[variables_independientes + [variable_dependiente]].copy(), lazy=False)"
   ]
  },
  {
   "cell_type": "code",
   "execution_count": null,
   "id": "b1fab5f1-ca9c-4ad7-b1f4-0160fcb8ddaa",
   "metadata": {
    "scrolled": true
   },
   "outputs": [],
   "source": [
    "profile_report.to_notebook_iframe()"
   ]
  },
  {
   "cell_type": "markdown",
   "id": "dfadc946-ee10-4451-bf8f-0c21e5d04b1b",
   "metadata": {},
   "source": [
    "# Selección inicial de variables\n",
    "De acuerdo con la matriz de correlaciones, teniendo en cuenta que la variable a predecir es is_fraud, notamos que las variables: type y amount son las que mayor correlación tienen con is_fraud, por lo tanto se procederá a graficar estas variables para identificar esto."
   ]
  },
  {
   "cell_type": "code",
   "execution_count": null,
   "id": "87056936-827b-4756-9db8-e307a456d38b",
   "metadata": {},
   "outputs": [],
   "source": [
    "import plotly.express as px"
   ]
  },
  {
   "cell_type": "code",
   "execution_count": null,
   "id": "977d0c08-3f56-4894-aa5e-15f785cba752",
   "metadata": {},
   "outputs": [],
   "source": [
    "fraude_inicial = cleaned_data[['type', 'amount', 'isfraud']]"
   ]
  },
  {
   "cell_type": "code",
   "execution_count": null,
   "id": "bd3b82aa-bb0b-4ee6-8685-7ae7a27081ce",
   "metadata": {},
   "outputs": [],
   "source": [
    "fraude_inicial"
   ]
  },
  {
   "cell_type": "code",
   "execution_count": null,
   "id": "3d1e76ab-26cd-4bff-a9b4-68d04e0bdcb2",
   "metadata": {},
   "outputs": [],
   "source": [
    "px.violin(fraude_inicial.sample(n=10000), x='type', color='isfraud')\n",
    "import pandas as pd\n",
    "import plotly.express as px\n",
    "\n",
    "#df = fraude_inicial.sample(n=1000)\n",
    "df = fraude_inicial\n",
    "\n",
    "# Calcular las fracciones de fraude y no fraude por tipo de transacción\n",
    "df_grouped = df.groupby(['type', 'isfraud']).size().unstack(fill_value=0)\n",
    "df_grouped['total'] = df_grouped.sum(axis=1)\n",
    "df_grouped['fraude_fraccion'] = df_grouped[1] / df_grouped['total']\n",
    "df_grouped['no_fraude_fraccion'] = df_grouped[0] / df_grouped['total']\n",
    "df_grouped = df_grouped.reset_index()\n",
    "\n",
    "# Crear el gráfico de barras apiladas con Plotly\n",
    "fig = px.bar(df_grouped, x='type', y=['fraude_fraccion', 'no_fraude_fraccion'],\n",
    "             labels={'value': 'Fracción de Transacciones', 'variable': 'Tipo de Transacción'},\n",
    "             title='Fracción de Transacciones de Fraude y No Fraude por Tipo de Transacción',\n",
    "             color_discrete_sequence=['red', 'green'])  # Puedes personalizar los colores\n",
    "\n",
    "fig.update_layout(barmode='stack')  # Asegura que las barras estén apiladas\n",
    "\n",
    "fig.show()\n"
   ]
  },
  {
   "cell_type": "code",
   "execution_count": null,
   "id": "7d26ecf0-8f07-4ed8-82dc-8bad360335e4",
   "metadata": {},
   "outputs": [],
   "source": [
    "import pandas as pd\n",
    "import plotly.express as px\n",
    "\n",
    "df = fraude_inicial\n",
    "\n",
    "# Crear el histograma con Plotly Express\n",
    "fig = px.histogram(df, x=\"amount\", color=\"isfraud\", barmode=\"overlay\",\n",
    "                   title=\"Distribución del Amount por Fraude\",\n",
    "                   labels={\"amount\": \"Amount\", \"isfraud\": \"Es Fraude\"})\n",
    "\n",
    "# Mostrar el histograma\n",
    "fig.show()\n"
   ]
  },
  {
   "cell_type": "code",
   "execution_count": null,
   "id": "162f2478-fbad-4e59-9bb3-ff8c0cd322a9",
   "metadata": {},
   "outputs": [],
   "source": []
  }
 ],
 "metadata": {
  "kernelspec": {
   "display_name": "Python 3 (ipykernel)",
   "language": "python",
   "name": "python3"
  },
  "language_info": {
   "codemirror_mode": {
    "name": "ipython",
    "version": 3
   },
   "file_extension": ".py",
   "mimetype": "text/x-python",
   "name": "python",
   "nbconvert_exporter": "python",
   "pygments_lexer": "ipython3",
   "version": "3.10.16"
  }
 },
 "nbformat": 4,
 "nbformat_minor": 5
}

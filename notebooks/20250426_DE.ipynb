{
 "cells": [
  {
   "cell_type": "code",
   "execution_count": null,
   "id": "0efcc8bd-f300-4d8c-bccf-57cf682a11c3",
   "metadata": {},
   "outputs": [],
   "source": [
    "import kagglehub\n",
    "import pandas as pd\n",
    "from kagglehub import KaggleDatasetAdapter\n",
    "from pathlib import Path\n",
    "from fraude import get_fraude_dataset, clean_column_names"
   ]
  },
  {
   "cell_type": "code",
   "execution_count": null,
   "id": "388d256b-37c6-4285-bbbf-b5edee2b954a",
   "metadata": {},
   "outputs": [],
   "source": [
    "project_path = Path(\"..\").resolve()"
   ]
  },
  {
   "cell_type": "code",
   "execution_count": null,
   "id": "5c6c9444-2e4e-4815-aef4-e516efd06038",
   "metadata": {},
   "outputs": [],
   "source": [
    "fraude = get_fraude_dataset(project_path)\n",
    "fraude = clean_column_names(fraude)"
   ]
  },
  {
   "cell_type": "code",
   "execution_count": null,
   "id": "78c85d48-fb4e-49b4-a3e5-62c58e4b466f",
   "metadata": {},
   "outputs": [],
   "source": [
    "fraude.head()"
   ]
  },
  {
   "cell_type": "code",
   "execution_count": null,
   "id": "c81d6b7e-d9d2-4db1-9c24-64238de451d5",
   "metadata": {},
   "outputs": [],
   "source": [
    "fraude.dtypes"
   ]
  },
  {
   "cell_type": "code",
   "execution_count": null,
   "id": "bca0ddb6-61da-4840-b1e6-5babebdbe982",
   "metadata": {},
   "outputs": [],
   "source": [
    "months = ('jan', 'feb', 'mar', 'apr', 'may', 'jun', 'jul', 'aug', 'sep', 'oct', 'nov', 'dec')\n",
    "months = {month: number for month, number in zip(months, range(1,13))}"
   ]
  },
  {
   "cell_type": "code",
   "execution_count": null,
   "id": "823ac0e1-8caa-4a46-9c83-e2bcb111b6d0",
   "metadata": {},
   "outputs": [],
   "source": [
    "fraude['date'] = fraude['date'].str.lower().str.split('-').apply(lambda x: f\"{2000+int(x[2])}/{months[x[1]]}/{x[0]}\" if len(x) > 2 and x[1] in months else None)\n",
    "fraude['date']= pd.to_datetime(fraude['date'], yearfirst=True)"
   ]
  },
  {
   "cell_type": "code",
   "execution_count": null,
   "id": "1069f103-8dfb-46df-a263-6de74997e34e",
   "metadata": {},
   "outputs": [],
   "source": [
    "fraude.dtypes"
   ]
  },
  {
   "cell_type": "code",
   "execution_count": null,
   "id": "7f419b8e-beec-4455-8847-e7c7e2b69c14",
   "metadata": {},
   "outputs": [],
   "source": [
    "from ydata_profiling import ProfileReport\n",
    "profiler = ProfileReport(fraude, title=\"Fraud dataset\", lazy=False,type_schema={'City': 'categorical'})"
   ]
  },
  {
   "cell_type": "code",
   "execution_count": null,
   "id": "3bba2fbb-2235-4148-b808-25e869db9b03",
   "metadata": {
    "scrolled": true
   },
   "outputs": [],
   "source": [
    "profiler.to_notebook_iframe()"
   ]
  },
  {
   "cell_type": "code",
   "execution_count": null,
   "id": "6004aba7-ecd8-4eeb-9d44-46cc1bdc1988",
   "metadata": {},
   "outputs": [],
   "source": [
    "fraud = fraude.query('amount != 0').copy()"
   ]
  },
  {
   "cell_type": "code",
   "execution_count": null,
   "id": "04317ee5-8317-4bf0-83df-9617a63d4857",
   "metadata": {},
   "outputs": [],
   "source": [
    "profiler2 = ProfileReport(fraud, title=\"Fraud dataset\", lazy=False,type_schema={'City': 'categorical'})\n",
    "profiler2.to_notebook_iframe()"
   ]
  },
  {
   "cell_type": "code",
   "execution_count": null,
   "id": "e27e780c-7794-43d8-9057-e1270c432a16",
   "metadata": {},
   "outputs": [],
   "source": []
  }
 ],
 "metadata": {
  "kernelspec": {
   "display_name": "Python 3 (ipykernel)",
   "language": "python",
   "name": "python3"
  },
  "language_info": {
   "codemirror_mode": {
    "name": "ipython",
    "version": 3
   },
   "file_extension": ".py",
   "mimetype": "text/x-python",
   "name": "python",
   "nbconvert_exporter": "python",
   "pygments_lexer": "ipython3",
   "version": "3.10.16"
  }
 },
 "nbformat": 4,
 "nbformat_minor": 5
}
